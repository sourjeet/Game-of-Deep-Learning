{
  "nbformat": 4,
  "nbformat_minor": 0,
  "metadata": {
    "colab": {
      "name": "Blueberry.ipynb",
      "version": "0.3.2",
      "provenance": [],
      "collapsed_sections": [],
      "include_colab_link": true
    },
    "kernelspec": {
      "name": "python3",
      "display_name": "Python 3"
    },
    "accelerator": "GPU"
  },
  "cells": [
    {
      "cell_type": "markdown",
      "metadata": {
        "id": "view-in-github",
        "colab_type": "text"
      },
      "source": [
        "<a href=\"https://colab.research.google.com/github/sourjeet/Game-of-Deep-Learning/blob/master/Blueberry.ipynb\" target=\"_parent\"><img src=\"https://colab.research.google.com/assets/colab-badge.svg\" alt=\"Open In Colab\"/></a>"
      ]
    },
    {
      "cell_type": "markdown",
      "metadata": {
        "id": "sccB9sDU0l8a",
        "colab_type": "text"
      },
      "source": [
        "Mounting Data to Google Colab"
      ]
    },
    {
      "cell_type": "code",
      "metadata": {
        "id": "Zv_MUEIYj_Dd",
        "colab_type": "code",
        "colab": {
          "base_uri": "https://localhost:8080/",
          "height": 51
        },
        "outputId": "24a5482a-9e4e-4e46-dc21-3e31ae23168a"
      },
      "source": [
        "#!ln -sf /opt/bin/nvidia-smi /usr/bin/nvidia-smi\n",
        "#!pip install gputil\n",
        "#!pip install psutil\n",
        "#!pip install humanize\n",
        "import psutil\n",
        "import humanize\n",
        "import os\n",
        "import GPUtil as GPU\n",
        "GPUs = GPU.getGPUs()\n",
        "# XXX: only one GPU on Colab and isn’t guaranteed\n",
        "gpu = GPUs[0]\n",
        "def printm():\n",
        " process = psutil.Process(os.getpid())\n",
        " print(\"Gen RAM Free: \" + humanize.naturalsize( psutil.virtual_memory().available ), \" | Proc size: \" + humanize.naturalsize( process.memory_info().rss))\n",
        " print(\"GPU RAM Free: {0:.0f}MB | Used: {1:.0f}MB | Util {2:3.0f}% | Total {3:.0f}MB\".format(gpu.memoryFree, gpu.memoryUsed, gpu.memoryUtil*100, gpu.memoryTotal))\n",
        "printm()"
      ],
      "execution_count": 1,
      "outputs": [
        {
          "output_type": "stream",
          "text": [
            "Gen RAM Free: 12.8 GB  | Proc size: 120.1 MB\n",
            "GPU RAM Free: 11441MB | Used: 0MB | Util   0% | Total 11441MB\n"
          ],
          "name": "stdout"
        }
      ]
    },
    {
      "cell_type": "code",
      "metadata": {
        "id": "qc7ZdXWgkGwz",
        "colab_type": "code",
        "colab": {
          "base_uri": "https://localhost:8080/",
          "height": 51
        },
        "outputId": "0b6a6edb-40c0-4297-e059-4e421f2095c3"
      },
      "source": [
        "printm()"
      ],
      "execution_count": 2,
      "outputs": [
        {
          "output_type": "stream",
          "text": [
            "Gen RAM Free: 12.8 GB  | Proc size: 120.1 MB\n",
            "GPU RAM Free: 11441MB | Used: 0MB | Util   0% | Total 11441MB\n"
          ],
          "name": "stdout"
        }
      ]
    },
    {
      "cell_type": "code",
      "metadata": {
        "id": "mULHP2Te0iUl",
        "colab_type": "code",
        "colab": {}
      },
      "source": [
        "#from google.colab import drive\n",
        "#drive.mount(\"/content/drive\", force_remount=True)"
      ],
      "execution_count": 0,
      "outputs": []
    },
    {
      "cell_type": "code",
      "metadata": {
        "id": "HVoX9JIa0laG",
        "colab_type": "code",
        "colab": {}
      },
      "source": [
        "#!ln -s \"drive/My Drive/ColabNotebooks/GameOfDL\" \"/content/GameOfDL\""
      ],
      "execution_count": 0,
      "outputs": []
    },
    {
      "cell_type": "code",
      "metadata": {
        "id": "DYIk-7B70igD",
        "colab_type": "code",
        "colab": {
          "base_uri": "https://localhost:8080/",
          "height": 102
        },
        "outputId": "881e0e7a-d051-45f9-e1b5-0dbe50afdd7e"
      },
      "source": [
        "!ls -lrt GameOfDL/"
      ],
      "execution_count": 5,
      "outputs": [
        {
          "output_type": "stream",
          "text": [
            "total 85261\n",
            "-r-------- 1 root root 87294609 May 24 06:17 train.zip\n",
            "drwx------ 3 root root     4096 May 31 10:27 Data\n",
            "drwx------ 2 root root     4096 Jun  4 19:22 Submissions\n",
            "drwx------ 2 root root     4096 Jun  4 19:47 checkpoints\n"
          ],
          "name": "stdout"
        }
      ]
    },
    {
      "cell_type": "code",
      "metadata": {
        "id": "DiH6JyQYXQIQ",
        "colab_type": "code",
        "colab": {
          "base_uri": "https://localhost:8080/",
          "height": 34
        },
        "outputId": "3b1d940b-8754-431b-8173-10b988e8aad4"
      },
      "source": [
        "import tensorflow as tf\n",
        "device_name = tf.test.gpu_device_name()\n",
        "if device_name != '/device:GPU:0':\n",
        "  raise SystemError('GPU device not found')\n",
        "print('Found GPU at: {}'.format(device_name))"
      ],
      "execution_count": 6,
      "outputs": [
        {
          "output_type": "stream",
          "text": [
            "Found GPU at: /device:GPU:0\n"
          ],
          "name": "stdout"
        }
      ]
    },
    {
      "cell_type": "code",
      "metadata": {
        "id": "5VvdWmI2XQOp",
        "colab_type": "code",
        "colab": {}
      },
      "source": [
        ""
      ],
      "execution_count": 0,
      "outputs": []
    },
    {
      "cell_type": "code",
      "metadata": {
        "id": "fIVafzrtzeb9",
        "colab_type": "code",
        "colab": {}
      },
      "source": [
        "import os\n",
        "import numpy as np\n",
        "import pandas as pd\n",
        "import matplotlib.pyplot as plt\n",
        "import cv2\n",
        "import collections\n",
        "\n",
        "from sklearn.utils import shuffle\n",
        "from sklearn.model_selection import train_test_split\n",
        "from sklearn.metrics import confusion_matrix"
      ],
      "execution_count": 0,
      "outputs": []
    },
    {
      "cell_type": "code",
      "metadata": {
        "id": "6a3ZqBp3Zlg_",
        "colab_type": "code",
        "outputId": "37f54ee7-09b0-4336-f127-b248b133e1fd",
        "colab": {
          "base_uri": "https://localhost:8080/",
          "height": 34
        }
      },
      "source": [
        "from keras.utils import to_categorical\n",
        "from keras.preprocessing.image import ImageDataGenerator"
      ],
      "execution_count": 8,
      "outputs": [
        {
          "output_type": "stream",
          "text": [
            "Using TensorFlow backend.\n"
          ],
          "name": "stderr"
        }
      ]
    },
    {
      "cell_type": "code",
      "metadata": {
        "id": "TEGoJ9KEZuDf",
        "colab_type": "code",
        "colab": {}
      },
      "source": [
        "def augment_data( generator, X1, y, batch_size = 32 ):\n",
        "    generator_seed = np.random.randint( 9999 )\n",
        "    gen_X1 = generator.flow( X1, y, batch_size = BATCH_SIZE, seed = generator_seed )\n",
        "\n",
        "    while True:\n",
        "        X1i = gen_X1.next()\n",
        "\n",
        "        yield  X1i[0], X1i[1]"
      ],
      "execution_count": 0,
      "outputs": []
    },
    {
      "cell_type": "code",
      "metadata": {
        "id": "AM29y-FjZwp5",
        "colab_type": "code",
        "colab": {}
      },
      "source": [
        "def resize_data(data):\n",
        "    \n",
        "    rSz_data = np.array(data)\n",
        "    #rSz_data = rSz_data.astype('float16')\n",
        "    rSz_data /= 255\n",
        "    \n",
        "    return rSz_data\n",
        "   "
      ],
      "execution_count": 0,
      "outputs": []
    },
    {
      "cell_type": "code",
      "metadata": {
        "id": "H7GyjFO3ZyN8",
        "colab_type": "code",
        "colab": {}
      },
      "source": [
        "import io\n",
        "from google.colab import files\n",
        "from PIL import Image"
      ],
      "execution_count": 0,
      "outputs": []
    },
    {
      "cell_type": "code",
      "metadata": {
        "id": "JRfhAxs9A9lJ",
        "colab_type": "code",
        "colab": {}
      },
      "source": [
        "# Display one image\n",
        "def display_one(a, title1 = \"Original\"):\n",
        "    plt.imshow(a), plt.title(title1)\n",
        "    plt.xticks([]), plt.yticks([])\n",
        "    plt.show()"
      ],
      "execution_count": 0,
      "outputs": []
    },
    {
      "cell_type": "code",
      "metadata": {
        "id": "N2dYkZrNaBrO",
        "colab_type": "code",
        "colab": {}
      },
      "source": [
        "train = pd.read_csv(\"GameOfDL/Data/train.csv\")\n",
        "test = pd.read_csv(\"GameOfDL/Data/test.csv\")"
      ],
      "execution_count": 0,
      "outputs": []
    },
    {
      "cell_type": "code",
      "metadata": {
        "id": "xOV-0EtCdoQT",
        "colab_type": "code",
        "colab": {}
      },
      "source": [
        "def readImages(df):\n",
        "    \n",
        "    img_rows=224\n",
        "    img_cols=224\n",
        "\n",
        "    img_data_list=[]\n",
        "    count = 0\n",
        "    \n",
        "    for fileName in df['image']:\n",
        "        \n",
        "        input_img = cv2.imread(\"GameOfDL/Data/images/\"+ fileName)\n",
        "        input_img_resize = cv2.resize(input_img,(img_rows, img_cols))            \n",
        "        img_data_list.append(input_img_resize)\n",
        "        \n",
        "        count +=1\n",
        "        if count % 100 == 0:\n",
        "          print(count)\n",
        "          \n",
        "    del input_img,input_img_resize, count, fileName, df\n",
        "        \n",
        "    return img_data_list"
      ],
      "execution_count": 0,
      "outputs": []
    },
    {
      "cell_type": "code",
      "metadata": {
        "id": "589FSF13eS7Z",
        "colab_type": "code",
        "outputId": "760f43ef-fc13-497e-df61-11d1f1a6d3f5",
        "colab": {
          "base_uri": "https://localhost:8080/",
          "height": 1513
        }
      },
      "source": [
        "trainImages = readImages(train)\n",
        "testImages  = readImages(test)"
      ],
      "execution_count": 15,
      "outputs": [
        {
          "output_type": "stream",
          "text": [
            "100\n",
            "200\n",
            "300\n",
            "400\n",
            "500\n",
            "600\n",
            "700\n",
            "800\n",
            "900\n",
            "1000\n",
            "1100\n",
            "1200\n",
            "1300\n",
            "1400\n",
            "1500\n",
            "1600\n",
            "1700\n",
            "1800\n",
            "1900\n",
            "2000\n",
            "2100\n",
            "2200\n",
            "2300\n",
            "2400\n",
            "2500\n",
            "2600\n",
            "2700\n",
            "2800\n",
            "2900\n",
            "3000\n",
            "3100\n",
            "3200\n",
            "3300\n",
            "3400\n",
            "3500\n",
            "3600\n",
            "3700\n",
            "3800\n",
            "3900\n",
            "4000\n",
            "4100\n",
            "4200\n",
            "4300\n",
            "4400\n",
            "4500\n",
            "4600\n",
            "4700\n",
            "4800\n",
            "4900\n",
            "5000\n",
            "5100\n",
            "5200\n",
            "5300\n",
            "5400\n",
            "5500\n",
            "5600\n",
            "5700\n",
            "5800\n",
            "5900\n",
            "6000\n",
            "6100\n",
            "6200\n",
            "100\n",
            "200\n",
            "300\n",
            "400\n",
            "500\n",
            "600\n",
            "700\n",
            "800\n",
            "900\n",
            "1000\n",
            "1100\n",
            "1200\n",
            "1300\n",
            "1400\n",
            "1500\n",
            "1600\n",
            "1700\n",
            "1800\n",
            "1900\n",
            "2000\n",
            "2100\n",
            "2200\n",
            "2300\n",
            "2400\n",
            "2500\n",
            "2600\n"
          ],
          "name": "stdout"
        }
      ]
    },
    {
      "cell_type": "code",
      "metadata": {
        "id": "BCRZvL3VBDwD",
        "colab_type": "code",
        "colab": {
          "base_uri": "https://localhost:8080/",
          "height": 316
        },
        "outputId": "3e57ed94-0549-4efa-a9c3-4fa68be5ea2d"
      },
      "source": [
        "#resizedTrainImages = resize_data(trainImages) \n",
        "#resizedTestImages = resize_data(testImages) "
      ],
      "execution_count": 16,
      "outputs": [
        {
          "output_type": "error",
          "ename": "TypeError",
          "evalue": "ignored",
          "traceback": [
            "\u001b[0;31m---------------------------------------------------------------------------\u001b[0m",
            "\u001b[0;31mTypeError\u001b[0m                                 Traceback (most recent call last)",
            "\u001b[0;32m<ipython-input-16-f881fa518202>\u001b[0m in \u001b[0;36m<module>\u001b[0;34m()\u001b[0m\n\u001b[0;32m----> 1\u001b[0;31m \u001b[0mresizedTrainImages\u001b[0m \u001b[0;34m=\u001b[0m \u001b[0mresize_data\u001b[0m\u001b[0;34m(\u001b[0m\u001b[0mtrainImages\u001b[0m\u001b[0;34m)\u001b[0m\u001b[0;34m\u001b[0m\u001b[0;34m\u001b[0m\u001b[0m\n\u001b[0m\u001b[1;32m      2\u001b[0m \u001b[0mresizedTestImages\u001b[0m \u001b[0;34m=\u001b[0m \u001b[0mresize_data\u001b[0m\u001b[0;34m(\u001b[0m\u001b[0mtestImages\u001b[0m\u001b[0;34m)\u001b[0m\u001b[0;34m\u001b[0m\u001b[0;34m\u001b[0m\u001b[0m\n",
            "\u001b[0;32m<ipython-input-10-24c437715839>\u001b[0m in \u001b[0;36mresize_data\u001b[0;34m(data)\u001b[0m\n\u001b[1;32m      3\u001b[0m     \u001b[0mrSz_data\u001b[0m \u001b[0;34m=\u001b[0m \u001b[0mnp\u001b[0m\u001b[0;34m.\u001b[0m\u001b[0marray\u001b[0m\u001b[0;34m(\u001b[0m\u001b[0mdata\u001b[0m\u001b[0;34m)\u001b[0m\u001b[0;34m\u001b[0m\u001b[0;34m\u001b[0m\u001b[0m\n\u001b[1;32m      4\u001b[0m     \u001b[0;31m#rSz_data = rSz_data.astype('float16')\u001b[0m\u001b[0;34m\u001b[0m\u001b[0;34m\u001b[0m\u001b[0;34m\u001b[0m\u001b[0m\n\u001b[0;32m----> 5\u001b[0;31m     \u001b[0mrSz_data\u001b[0m \u001b[0;34m/=\u001b[0m \u001b[0;36m255\u001b[0m\u001b[0;34m\u001b[0m\u001b[0;34m\u001b[0m\u001b[0m\n\u001b[0m\u001b[1;32m      6\u001b[0m \u001b[0;34m\u001b[0m\u001b[0m\n\u001b[1;32m      7\u001b[0m     \u001b[0;32mreturn\u001b[0m \u001b[0mrSz_data\u001b[0m\u001b[0;34m\u001b[0m\u001b[0;34m\u001b[0m\u001b[0m\n",
            "\u001b[0;31mTypeError\u001b[0m: No loop matching the specified signature and casting\nwas found for ufunc true_divide"
          ]
        }
      ]
    },
    {
      "cell_type": "code",
      "metadata": {
        "id": "m-gQwevVBDnu",
        "colab_type": "code",
        "colab": {}
      },
      "source": [
        "display_one(trainImages[0])"
      ],
      "execution_count": 0,
      "outputs": []
    },
    {
      "cell_type": "code",
      "metadata": {
        "id": "8IwfZAetlYdh",
        "colab_type": "code",
        "colab": {}
      },
      "source": [
        "#del trainImages, testImages"
      ],
      "execution_count": 0,
      "outputs": []
    },
    {
      "cell_type": "code",
      "metadata": {
        "id": "dl26n9sH4DXs",
        "colab_type": "code",
        "colab": {}
      },
      "source": [
        "arrTrainImages = np.array(trainImages) \n",
        "arrTestImages = np.array(testImages) "
      ],
      "execution_count": 0,
      "outputs": []
    },
    {
      "cell_type": "code",
      "metadata": {
        "id": "rOpIPcJrBLzb",
        "colab_type": "code",
        "colab": {
          "base_uri": "https://localhost:8080/",
          "height": 34
        },
        "outputId": "38b536e3-4665-4255-8f45-7e535ee6247e"
      },
      "source": [
        "train['category'] = train['category'] - 1\n",
        "train['category'] = train['category'].astype('object')\n",
        "collections.Counter(train['category'])"
      ],
      "execution_count": 18,
      "outputs": [
        {
          "output_type": "execute_result",
          "data": {
            "text/plain": [
              "Counter({0: 2120, 1: 1167, 2: 916, 3: 832, 4: 1217})"
            ]
          },
          "metadata": {
            "tags": []
          },
          "execution_count": 18
        }
      ]
    },
    {
      "cell_type": "code",
      "metadata": {
        "id": "d8dgRd8JBL-H",
        "colab_type": "code",
        "colab": {
          "base_uri": "https://localhost:8080/",
          "height": 136
        },
        "outputId": "1e0550de-46c6-4629-a583-4af84320d170"
      },
      "source": [
        "numClasses = len(train['category'].unique())\n",
        "classes = to_categorical(train['category'], numClasses)\n",
        "print(classes)"
      ],
      "execution_count": 19,
      "outputs": [
        {
          "output_type": "stream",
          "text": [
            "[[1. 0. 0. 0. 0.]\n",
            " [1. 0. 0. 0. 0.]\n",
            " [0. 1. 0. 0. 0.]\n",
            " ...\n",
            " [0. 0. 0. 0. 1.]\n",
            " [0. 0. 1. 0. 0.]\n",
            " [1. 0. 0. 0. 0.]]\n"
          ],
          "name": "stdout"
        }
      ]
    },
    {
      "cell_type": "code",
      "metadata": {
        "id": "19Cm0SMDh3TQ",
        "colab_type": "code",
        "colab": {
          "base_uri": "https://localhost:8080/",
          "height": 51
        },
        "outputId": "8fd9152e-c305-46ef-c94f-9d4288d486f1"
      },
      "source": [
        "printm()"
      ],
      "execution_count": 20,
      "outputs": [
        {
          "output_type": "stream",
          "text": [
            "Gen RAM Free: 8.6 GB  | Proc size: 4.4 GB\n",
            "GPU RAM Free: 11441MB | Used: 0MB | Util   0% | Total 11441MB\n"
          ],
          "name": "stdout"
        }
      ]
    },
    {
      "cell_type": "code",
      "metadata": {
        "id": "pBtTW3Vk3s5T",
        "colab_type": "code",
        "colab": {}
      },
      "source": [
        ""
      ],
      "execution_count": 0,
      "outputs": []
    },
    {
      "cell_type": "code",
      "metadata": {
        "id": "G7JHpSkpBMM2",
        "colab_type": "code",
        "colab": {
          "base_uri": "https://localhost:8080/",
          "height": 34
        },
        "outputId": "a4509c9d-1baf-47dd-b620-ce477ba8b5f0"
      },
      "source": [
        "X_train, X_test, y_train, y_test = train_test_split(arrTrainImages, classes, test_size=0.2, random_state=2)\n",
        "y_train.shape"
      ],
      "execution_count": 21,
      "outputs": [
        {
          "output_type": "execute_result",
          "data": {
            "text/plain": [
              "(5001, 5)"
            ]
          },
          "metadata": {
            "tags": []
          },
          "execution_count": 21
        }
      ]
    },
    {
      "cell_type": "code",
      "metadata": {
        "id": "9mzWvpuV3ati",
        "colab_type": "code",
        "colab": {
          "base_uri": "https://localhost:8080/",
          "height": 34
        },
        "outputId": "20533cd6-456b-4557-c511-0006909163a0"
      },
      "source": [
        "X_train.shape"
      ],
      "execution_count": 22,
      "outputs": [
        {
          "output_type": "execute_result",
          "data": {
            "text/plain": [
              "(5001, 224, 224, 3)"
            ]
          },
          "metadata": {
            "tags": []
          },
          "execution_count": 22
        }
      ]
    },
    {
      "cell_type": "code",
      "metadata": {
        "id": "_CtMfJulXlXZ",
        "colab_type": "code",
        "outputId": "0d3fc28c-80ee-4a06-f4de-dce264cd50d1",
        "colab": {
          "base_uri": "https://localhost:8080/",
          "height": 34
        }
      },
      "source": [
        "input_shape = trainImages[0].shape\n",
        "print(input_shape)"
      ],
      "execution_count": 23,
      "outputs": [
        {
          "output_type": "stream",
          "text": [
            "(224, 224, 3)\n"
          ],
          "name": "stdout"
        }
      ]
    },
    {
      "cell_type": "code",
      "metadata": {
        "id": "OTdUTMYXsVH_",
        "colab_type": "code",
        "colab": {}
      },
      "source": [
        "#del image_augmentation, input_generator"
      ],
      "execution_count": 0,
      "outputs": []
    },
    {
      "cell_type": "code",
      "metadata": {
        "id": "GSiMWAMxqXc7",
        "colab_type": "code",
        "colab": {}
      },
      "source": [
        "BATCH_SIZE = 16\n",
        "image_augmentation = ImageDataGenerator( rotation_range = 20,\n",
        "                                             horizontal_flip = True,\n",
        "                                             vertical_flip = True ,\n",
        "                                            # width_shift_range = .3,\n",
        "                                            # height_shift_range =.3,\n",
        "                                             zoom_range = .2\n",
        "                                       )\n",
        "input_generator = augment_data( image_augmentation, X_train, y_train, batch_size = BATCH_SIZE )"
      ],
      "execution_count": 0,
      "outputs": []
    },
    {
      "cell_type": "code",
      "metadata": {
        "id": "vdccVprZpvuQ",
        "colab_type": "code",
        "colab": {
          "base_uri": "https://localhost:8080/",
          "height": 122
        },
        "outputId": "bbc7b303-d1df-4e47-ae37-307aeaf43777"
      },
      "source": [
        "from keras.applications.resnet50 import ResNet50, preprocess_input\n",
        "\n",
        "HEIGHT = 224\n",
        "WIDTH = 224\n",
        "\n",
        "base_model = ResNet50(weights='imagenet',\n",
        "                      include_top=False, \n",
        "                      input_shape=(HEIGHT, WIDTH, 3))"
      ],
      "execution_count": 25,
      "outputs": [
        {
          "output_type": "stream",
          "text": [
            "WARNING:tensorflow:From /usr/local/lib/python3.6/dist-packages/tensorflow/python/framework/op_def_library.py:263: colocate_with (from tensorflow.python.framework.ops) is deprecated and will be removed in a future version.\n",
            "Instructions for updating:\n",
            "Colocations handled automatically by placer.\n"
          ],
          "name": "stdout"
        },
        {
          "output_type": "stream",
          "text": [
            "/usr/local/lib/python3.6/dist-packages/keras_applications/resnet50.py:265: UserWarning: The output shape of `ResNet50(include_top=False)` has been changed since Keras 2.2.0.\n",
            "  warnings.warn('The output shape of `ResNet50(include_top=False)` '\n"
          ],
          "name": "stderr"
        }
      ]
    },
    {
      "cell_type": "code",
      "metadata": {
        "id": "F5FBxsllBau7",
        "colab_type": "code",
        "colab": {
          "base_uri": "https://localhost:8080/",
          "height": 88
        },
        "outputId": "f47ed127-6b97-44dc-9efa-0f75bb21658b"
      },
      "source": [
        "from keras.layers import Dense, Activation, Flatten, Dropout\n",
        "from keras.models import Sequential, Model\n",
        "\n",
        "def build_finetune_model(base_model, dropout, fc_layers, num_classes):\n",
        "    for layer in base_model.layers:\n",
        "        layer.trainable = False\n",
        "\n",
        "    x = base_model.output\n",
        "    x = Flatten()(x)\n",
        "    for fc in fc_layers:\n",
        "        # New FC layer, random init\n",
        "        x = Dense(fc, activation='relu')(x) \n",
        "        x = Dropout(dropout)(x)\n",
        "\n",
        "    # New softmax layer\n",
        "    predictions = Dense(num_classes, activation='softmax')(x) \n",
        "    \n",
        "    finetune_model = Model(inputs=base_model.input, outputs=predictions)\n",
        "    \n",
        "\n",
        "    return finetune_model\n",
        "\n",
        "class_list = [\"0\",\"1\",\"2\",\"3\",\"4\"]\n",
        "FC_LAYERS = [1024, 1024]\n",
        "dropout = 0.1\n",
        "\n",
        "finetune_model = build_finetune_model(base_model, \n",
        "                                      dropout=dropout, \n",
        "                                      fc_layers=FC_LAYERS, \n",
        "                                      num_classes=len(class_list))"
      ],
      "execution_count": 26,
      "outputs": [
        {
          "output_type": "stream",
          "text": [
            "WARNING:tensorflow:From /usr/local/lib/python3.6/dist-packages/keras/backend/tensorflow_backend.py:3445: calling dropout (from tensorflow.python.ops.nn_ops) with keep_prob is deprecated and will be removed in a future version.\n",
            "Instructions for updating:\n",
            "Please use `rate` instead of `keep_prob`. Rate should be set to `rate = 1 - keep_prob`.\n"
          ],
          "name": "stdout"
        }
      ]
    },
    {
      "cell_type": "code",
      "metadata": {
        "id": "6MMaLpJ4BayG",
        "colab_type": "code",
        "colab": {}
      },
      "source": [
        "#finetune_model.layers"
      ],
      "execution_count": 0,
      "outputs": []
    },
    {
      "cell_type": "code",
      "metadata": {
        "id": "f388_7S2BbDO",
        "colab_type": "code",
        "colab": {
          "base_uri": "https://localhost:8080/",
          "height": 1448
        },
        "outputId": "6c23dec2-3be4-478c-bb60-9a9c49c8f965"
      },
      "source": [
        "from keras.optimizers import SGD, Adam\n",
        "from keras.callbacks import ModelCheckpoint\n",
        "\n",
        "NUM_EPOCHS = 20\n",
        "BATCH_SIZE = 16\n",
        "num_train_images = 10000\n",
        "\n",
        "adam = Adam(lr=0.00005,beta_1=0.9, beta_2=0.999, epsilon=None, decay=0.0, amsgrad=False)\n",
        "finetune_model.compile(adam, loss='categorical_crossentropy', metrics=['accuracy'])\n",
        "\n",
        "filepath=\"./GameOfDL/checkpoints/\" + \"ResNet50\" + \"_model_weights.h5\"\n",
        "checkpoint = ModelCheckpoint(filepath, monitor=[\"acc\"], verbose=1, mode='max')\n",
        "callbacks_list = [checkpoint]\n",
        "\n",
        "history = finetune_model.fit_generator( input_generator, epochs = NUM_EPOCHS, steps_per_epoch =  len(X_train)/BATCH_SIZE,\n",
        "                                    verbose = 1, #validation_data = (X_test, y_test))\n",
        "                                    validation_data = augment_data(image_augmentation, X_test, y_test, batch_size = BATCH_SIZE),\n",
        "                                   validation_steps = len(X_test)/BATCH_SIZE,callbacks=callbacks_list)\n",
        "\n",
        "\n",
        "\n"
      ],
      "execution_count": 27,
      "outputs": [
        {
          "output_type": "stream",
          "text": [
            "WARNING:tensorflow:From /usr/local/lib/python3.6/dist-packages/tensorflow/python/ops/math_ops.py:3066: to_int32 (from tensorflow.python.ops.math_ops) is deprecated and will be removed in a future version.\n",
            "Instructions for updating:\n",
            "Use tf.cast instead.\n",
            "Epoch 1/20\n",
            "313/312 [==============================] - 107s 341ms/step - loss: 0.9509 - acc: 0.6924 - val_loss: 0.8151 - val_acc: 0.6970\n",
            "\n",
            "Epoch 00001: saving model to ./GameOfDL/checkpoints/ResNet50_model_weights.h5\n",
            "Epoch 2/20\n",
            "313/312 [==============================] - 96s 307ms/step - loss: 0.5855 - acc: 0.7954 - val_loss: 0.7126 - val_acc: 0.7282\n",
            "\n",
            "Epoch 00002: saving model to ./GameOfDL/checkpoints/ResNet50_model_weights.h5\n",
            "Epoch 3/20\n",
            "313/312 [==============================] - 96s 308ms/step - loss: 0.4903 - acc: 0.8200 - val_loss: 0.7069 - val_acc: 0.7322\n",
            "\n",
            "Epoch 00003: saving model to ./GameOfDL/checkpoints/ResNet50_model_weights.h5\n",
            "Epoch 4/20\n",
            "313/312 [==============================] - 97s 308ms/step - loss: 0.4383 - acc: 0.8407 - val_loss: 0.7842 - val_acc: 0.7194\n",
            "\n",
            "Epoch 00004: saving model to ./GameOfDL/checkpoints/ResNet50_model_weights.h5\n",
            "Epoch 5/20\n",
            "313/312 [==============================] - 96s 307ms/step - loss: 0.3971 - acc: 0.8497 - val_loss: 0.6883 - val_acc: 0.7482\n",
            "\n",
            "Epoch 00005: saving model to ./GameOfDL/checkpoints/ResNet50_model_weights.h5\n",
            "Epoch 6/20\n",
            "313/312 [==============================] - 96s 306ms/step - loss: 0.3522 - acc: 0.8721 - val_loss: 0.8286 - val_acc: 0.7170\n",
            "\n",
            "Epoch 00006: saving model to ./GameOfDL/checkpoints/ResNet50_model_weights.h5\n",
            "Epoch 7/20\n",
            "313/312 [==============================] - 95s 305ms/step - loss: 0.3478 - acc: 0.8736 - val_loss: 0.8667 - val_acc: 0.6946\n",
            "\n",
            "Epoch 00007: saving model to ./GameOfDL/checkpoints/ResNet50_model_weights.h5\n",
            "Epoch 8/20\n",
            "313/312 [==============================] - 95s 302ms/step - loss: 0.3015 - acc: 0.8935 - val_loss: 0.6278 - val_acc: 0.7786\n",
            "\n",
            "Epoch 00008: saving model to ./GameOfDL/checkpoints/ResNet50_model_weights.h5\n",
            "Epoch 9/20\n",
            "313/312 [==============================] - 94s 302ms/step - loss: 0.3082 - acc: 0.8852 - val_loss: 0.6877 - val_acc: 0.7650\n",
            "\n",
            "Epoch 00009: saving model to ./GameOfDL/checkpoints/ResNet50_model_weights.h5\n",
            "Epoch 10/20\n",
            "313/312 [==============================] - 95s 302ms/step - loss: 0.2736 - acc: 0.9022 - val_loss: 0.7111 - val_acc: 0.7594\n",
            "\n",
            "Epoch 00010: saving model to ./GameOfDL/checkpoints/ResNet50_model_weights.h5\n",
            "Epoch 11/20\n",
            "313/312 [==============================] - 94s 301ms/step - loss: 0.2861 - acc: 0.8902 - val_loss: 0.6700 - val_acc: 0.7570\n",
            "\n",
            "Epoch 00011: saving model to ./GameOfDL/checkpoints/ResNet50_model_weights.h5\n",
            "Epoch 12/20\n",
            "313/312 [==============================] - 94s 299ms/step - loss: 0.2392 - acc: 0.9148 - val_loss: 0.6621 - val_acc: 0.7770\n",
            "\n",
            "Epoch 00012: saving model to ./GameOfDL/checkpoints/ResNet50_model_weights.h5\n",
            "Epoch 13/20\n",
            "313/312 [==============================] - 94s 300ms/step - loss: 0.2378 - acc: 0.9146 - val_loss: 0.7199 - val_acc: 0.7610\n",
            "\n",
            "Epoch 00013: saving model to ./GameOfDL/checkpoints/ResNet50_model_weights.h5\n",
            "Epoch 14/20\n",
            "313/312 [==============================] - 94s 301ms/step - loss: 0.2283 - acc: 0.9153 - val_loss: 0.7180 - val_acc: 0.7658\n",
            "\n",
            "Epoch 00014: saving model to ./GameOfDL/checkpoints/ResNet50_model_weights.h5\n",
            "Epoch 15/20\n",
            "313/312 [==============================] - 94s 301ms/step - loss: 0.2092 - acc: 0.9198 - val_loss: 0.6816 - val_acc: 0.7826\n",
            "\n",
            "Epoch 00015: saving model to ./GameOfDL/checkpoints/ResNet50_model_weights.h5\n",
            "Epoch 16/20\n",
            "313/312 [==============================] - 95s 302ms/step - loss: 0.2193 - acc: 0.9196 - val_loss: 0.7828 - val_acc: 0.7602\n",
            "\n",
            "Epoch 00016: saving model to ./GameOfDL/checkpoints/ResNet50_model_weights.h5\n",
            "Epoch 17/20\n",
            "313/312 [==============================] - 94s 300ms/step - loss: 0.2175 - acc: 0.9262 - val_loss: 0.7112 - val_acc: 0.7754\n",
            "\n",
            "Epoch 00017: saving model to ./GameOfDL/checkpoints/ResNet50_model_weights.h5\n",
            "Epoch 18/20\n",
            "313/312 [==============================] - 94s 300ms/step - loss: 0.2166 - acc: 0.9207 - val_loss: 0.6581 - val_acc: 0.7802\n",
            "\n",
            "Epoch 00018: saving model to ./GameOfDL/checkpoints/ResNet50_model_weights.h5\n",
            "Epoch 19/20\n",
            "313/312 [==============================] - 94s 300ms/step - loss: 0.1893 - acc: 0.9301 - val_loss: 0.7374 - val_acc: 0.7898\n",
            "\n",
            "Epoch 00019: saving model to ./GameOfDL/checkpoints/ResNet50_model_weights.h5\n",
            "Epoch 20/20\n",
            "313/312 [==============================] - 95s 302ms/step - loss: 0.1878 - acc: 0.9321 - val_loss: 0.8486 - val_acc: 0.7610\n",
            "\n",
            "Epoch 00020: saving model to ./GameOfDL/checkpoints/ResNet50_model_weights.h5\n"
          ],
          "name": "stdout"
        }
      ]
    },
    {
      "cell_type": "code",
      "metadata": {
        "id": "CeMs0gdYuwUy",
        "colab_type": "code",
        "colab": {}
      },
      "source": [
        "# Plot the training and validation loss + accuracy\n",
        "def plot_training(history):\n",
        "    acc = history.history['acc']\n",
        "    val_acc = history.history['val_acc']\n",
        "    loss = history.history['loss']\n",
        "    val_loss = history.history['val_loss']\n",
        "    epochs = range(len(acc))\n",
        "\n",
        "    plt.plot(epochs, acc, 'r.')\n",
        "    plt.plot(epochs, val_acc, 'r')\n",
        "    plt.title('Training and validation accuracy')\n",
        "\n",
        "    # plt.figure()\n",
        "    # plt.plot(epochs, loss, 'r.')\n",
        "    # plt.plot(epochs, val_loss, 'r-')\n",
        "    # plt.title('Training and validation loss')\n",
        "    plt.show()\n",
        "\n",
        "    plt.savefig('acc_vs_epochs.png')"
      ],
      "execution_count": 0,
      "outputs": []
    },
    {
      "cell_type": "code",
      "metadata": {
        "id": "9l6PLyrrqqac",
        "colab_type": "code",
        "colab": {
          "base_uri": "https://localhost:8080/",
          "height": 298
        },
        "outputId": "49510b13-0ff2-440c-f453-167389e07f71"
      },
      "source": [
        "plot_training(history)\n"
      ],
      "execution_count": 30,
      "outputs": [
        {
          "output_type": "display_data",
          "data": {
            "image/png": "[encoded data removed]",
            "text/plain": [
              "<Figure size 432x288 with 1 Axes>"
            ]
          },
          "metadata": {
            "tags": []
          }
        },
        {
          "output_type": "display_data",
          "data": {
            "text/plain": [
              "<Figure size 432x288 with 0 Axes>"
            ]
          },
          "metadata": {
            "tags": []
          }
        }
      ]
    },
    {
      "cell_type": "code",
      "metadata": {
        "id": "j8yTjx6sqqjj",
        "colab_type": "code",
        "colab": {}
      },
      "source": [
        "prediction = finetune_model.predict(arrTestImages)\n",
        "prediction = np.argmax(prediction, axis=1)"
      ],
      "execution_count": 0,
      "outputs": []
    },
    {
      "cell_type": "code",
      "metadata": {
        "id": "jzEK_EAVqqtE",
        "colab_type": "code",
        "colab": {
          "base_uri": "https://localhost:8080/",
          "height": 34
        },
        "outputId": "613ec88d-6d25-488e-dbba-26437391109e"
      },
      "source": [
        "predictionUpd = prediction + 1\n",
        "collections.Counter(predictionUpd)"
      ],
      "execution_count": 32,
      "outputs": [
        {
          "output_type": "execute_result",
          "data": {
            "text/plain": [
              "Counter({1: 1358, 2: 375, 3: 310, 4: 507, 5: 130})"
            ]
          },
          "metadata": {
            "tags": []
          },
          "execution_count": 32
        }
      ]
    },
    {
      "cell_type": "code",
      "metadata": {
        "id": "CyEQbB10TKsV",
        "colab_type": "code",
        "colab": {}
      },
      "source": [
        "pred_5 = pd.DataFrame(predictionUpd, columns=['category'])\n",
        "pred_5 = pred_5.set_index(test['image'])\n",
        "\n",
        "pred_5.to_csv('./GameOfDL/Submissions/submission5.csv',sep=',',index =True)"
      ],
      "execution_count": 0,
      "outputs": []
    },
    {
      "cell_type": "code",
      "metadata": {
        "id": "n0gxGnzB8QbZ",
        "colab_type": "code",
        "colab": {}
      },
      "source": [
        ""
      ],
      "execution_count": 0,
      "outputs": []
    }
  ]
}